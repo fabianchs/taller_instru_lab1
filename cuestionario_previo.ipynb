{
  "cells": [
    {
      "cell_type": "markdown",
      "id": "63814a12",
      "metadata": {},
      "source": [
        "# **Laboratorio I: Introducción a taller de instrumentación**\n",
        "\n",
        "**Integrantes:**\n",
        "\n",
        "- Fabián Chacón Solano \n",
        "- Jeremy Cordoba Wright\n",
        "- Steven Jiménez Mesén\n",
        "\n",
        "El presente laboratorio pretende introducir al estudiante al modelado y calibración de señales dinámicas mediante lo siguientes objetivos específicos:\n",
        "\n",
        "1. Elaborar un modelo matemático de un canal de comunicación.\n",
        "2. Practicar el uso de herramientas de análisis computacionales.\n",
        "3. Uso de herramientas de control de versiones."
      ]
    },
    {
      "cell_type": "markdown",
      "id": "64a06c42",
      "metadata": {},
      "source": [
        "## **Metodología**\n",
        "\n",
        "La metodología para el siguiente laboratorio permite definir los pasos necesarios para alcanzar los resultados propuestos.\n",
        "\n",
        "**1. Diseño del experimento**\n",
        " - La obtención de un modelo de respuesta en frecuencia de un dispositivo bajo prueba. Se utilizará un micrófono de audio y se repetirá tanto con el micrófono de un celular como el de una laptop.\n",
        "\n",
        " - Se utilizará el modelo de estimación de respuesta en frecuencia por barrido de frecuencia de una señal sinusoidal. La emisión del audio será con un parlante, este reproducirá un audio que hace un barrido de frecuencia desde 50Hz hasta 5kHz.\n",
        "\n",
        " - Con las grabaciones se hará el análisis de la respuesta en frecuencia de cada micrófono, ambos audios serán almacenados en formatos sin distorsión por compresión.\n",
        "\n",
        " - Finalmente se elaborará un método para estimar el SNR de las grabaciones con 1kHz de tono como referencia.\n",
        "\n",
        "**2. Adquisición de datos**\n",
        "\n",
        "- La adquisición de datos será mediante los micrófonos de la laptop y celular, se asegurará una distancia de 1 a 2 metros entre el parlante y el celular/laptop. Cada audio se almacenará y enviará para su análisis.\n",
        "\n",
        "**3. Preprocesamiento de datos**\n",
        "\n",
        "- Esta parte implica la sincronización del barrido fuente con el barrido experimental, con el fin de comparar exactamente cada punto en frecuencia del audio y así obtener la función de transferencia del audio obtenido. No se modificará la ecualización ni volumen del audio.\n",
        "\n",
        "**4. Análisis y obtención de función de transferencia**\n",
        "\n",
        "- Mediante algún lenguaje de programación se obtendrá un análisis de ganancia de los datos adquiridos a través del tiempo, de esta forma se obtiene la función de transferencia de la comparación entre la referencia y el audio grabado, con esta información es posible generar un gráfico de respuesta en frecuencia, este permitirá visualmente notar si el micrófono tiene algun filtro en su circuito de procesamiento, mediante atenuaciones o ganancias significativas.\n",
        "\n",
        "**5. Comparación de datos**\n",
        "\n",
        "- Se realizarán comparaciones a partir del audio de referencia con el grabado según el tipo de micrófono, de esta forma se discutirán las diferencias más significativas entre cada función de transferencia, del mismo modo será posible notar el rango de obtención de audio de cada micrófono y los filtros que tengan.\n",
        "\n",
        "**6. Justificación y conclusión de resultados**\n",
        "\n",
        "- Se describirán las herramientas matemáticas y de programación utilizadas para alcanzar los objetivos propuestos y la explicación que permitió obtener la solución para cada función de transferencia. Del mismo modo se expondrán los objetivos alcanzados y los pasos necesarios que permitieron la realización del laboratorio.\n",
        "\n"
      ]
    },
    {
      "cell_type": "markdown",
      "id": "a35eeb9f-df70-4ab1-a243-2d2025888eb0",
      "metadata": {},
      "source": [
        "## **Cuestionario Previo**\n",
        "\n",
        "**¿Cómo se mide el signal-to-noise ratio (SNR) para una señal analógica? Brinde un ejemplo**\n",
        "\n",
        "- resp1.\n",
        "\n",
        "**¿Cual es el ancho de banda típico para señales de audio? ¿Una señal de audio tiene componente DC?**\n",
        "\n",
        "- resp2.\n",
        "\n",
        "**¿Cómo afecta el ruido térmico al SNR de una señal analógica? ¿Cuántos dBm tiene el ruido térmico para una impedancia de 50Ω para una señal cuyo BW= 20kHz?**\n",
        "\n",
        "- resp3.\n",
        "\n",
        "**¿Qué es ruido de cuantización? ¿Bajo qué circunstancias se podría modelar como ruido activo?**\n",
        "\n",
        "- El error de cuantización es la técnica de representar una señal analógica con un número digital, en general es la conversión analógica a digital de una señal en específico.\n",
        "\n",
        "**¿Para una grabación de audio, el piso de ruido de la señal es predominado por el ruido de cuantización o el ruido térmico?**\n",
        "\n",
        "- Es determinado por el ruido térmico\n",
        "\n",
        "**¿Cuáles son las tasas de muestreo más populares para grabaciones de auido? ¿La cantidad de bits por muestra?**\n",
        "\n",
        "**¿Cuales son los formatos de audio cuya compresión o almacenamiento no agrega distorsión?**\n",
        "\n",
        "- Algunos de los formatos de audio sin pérdida más conocidos son:FLAC (Free Lossless Audio Codec), ALAC (Apple Lossless Audio Codec), WAV (Waveform Audio File Format), APE (Monkey's Audio).\n",
        "\n",
        "**¿Cómo se puede utilizar un barrido de frecuencias para modelar la respuesta en frecuencia de un dispositivo bajo prueba (DUT)? Investigue el procedimiento a realizar a cada grabación de audio para tener la estimación de la respuesta en frecuencia**\n",
        "\n",
        "- respuiesta 8.\n",
        "\n",
        "- Respuesta"
      ]
    },
    {
      "cell_type": "markdown",
      "id": "ca33c676",
      "metadata": {},
      "source": [
        "## **Bibliografía**"
      ]
    }
  ],
  "metadata": {
    "kernelspec": {
      "display_name": "Python (Pyodide)",
      "language": "python",
      "name": "python"
    },
    "language_info": {
      "codemirror_mode": {
        "name": "python",
        "version": 3
      },
      "file_extension": ".py",
      "mimetype": "text/x-python",
      "name": "python",
      "nbconvert_exporter": "python",
      "pygments_lexer": "ipython3",
      "version": "3.8"
    }
  },
  "nbformat": 4,
  "nbformat_minor": 5
}
